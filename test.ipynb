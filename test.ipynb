{
 "cells": [
  {
   "cell_type": "markdown",
   "metadata": {},
   "source": [
    "---\n",
    "layout: \"post\"\n",
    "title: 【金研院】外匯交易專業能力測驗 #Note1\n",
    "categories: [Study Note, 金融證照]\n",
    "tags: [金融研究院]\n",
    "author:\n",
    "  name: Lung Hung Lin\n",
    "  link: https://www.linkedin.com/in/lung-hung-blair-lin-645a85194/\n",
    "math: true\n",
    "mermaid: true\n",
    "---"
   ]
  },
  {
   "cell_type": "markdown",
   "metadata": {},
   "source": [
    "## 前言"
   ]
  },
  {
   "cell_type": "markdown",
   "metadata": {},
   "source": [
    "今天報名了金融研訓院一年一度的 [外匯交易專業能力測驗](https://www.tabf.org.tw/LicenseExamList.aspx?ExamCode=081)，其實我在 2021 年尾就已經決定了，今年要盡量多考一些證照，一方面是因為自己還不確定是否讀研，如果直接工作，應該要有一些能證明自己有企圖心的佐證，另一方面是因為從去年 10 月初開始交易外匯，覺得應該要補足基本面、技術面以外的知識，所以選擇報考。\n",
    "\n",
    "題外話，這是我用 markdown 認真寫的第一篇網誌，雖然之前就寫過 markdown，但是用它來寫部落格真的是一大躍進 XD，效果如何，之後看看囉~"
   ]
  },
  {
   "cell_type": "markdown",
   "metadata": {},
   "source": [
    "### 一些術語"
   ]
  },
  {
   "cell_type": "markdown",
   "metadata": {},
   "source": [
    "「利率」即為金錢「使用權」的價格，  \n",
    "「所有權」即為金錢「所有權」的價格，如果把金錢比做房屋，則利率就等同房子的房租，匯率則是房價。"
   ]
  },
  {
   "cell_type": "markdown",
   "metadata": {},
   "source": [
    "### 金錢的取得"
   ]
  },
  {
   "cell_type": "markdown",
   "metadata": {},
   "source": [
    "就像房子一樣，想獲得金錢，有兩種方法: 租賃與買賣，因此:\n",
    "\n",
    "- **貨幣借貸市場**: 從事資金借貸的市場，市場的價格即為利率\n",
    "- **外匯買賣市場**: 從事資金買賣的市場，市場的價格即為匯率"
   ]
  },
  {
   "cell_type": "markdown",
   "metadata": {},
   "source": [
    "### 用會計帳表示資金的流入與流出"
   ]
  },
  {
   "cell_type": "code",
   "execution_count": null,
   "metadata": {},
   "outputs": [],
   "source": [
    "https://www.tabf.org.tw/LicenseExamList.aspx?ExamCode=081"
   ]
  }
 ],
 "metadata": {
  "interpreter": {
   "hash": "98d986e16014c9e816d2517368fd6a98c7c85720c74c08ab9246dbaa2a608120"
  },
  "kernelspec": {
   "display_name": "Python 3",
   "language": "python",
   "name": "python3"
  },
  "language_info": {
   "codemirror_mode": {
    "name": "ipython",
    "version": 3
   },
   "file_extension": ".py",
   "mimetype": "text/x-python",
   "name": "python",
   "nbconvert_exporter": "python",
   "pygments_lexer": "ipython3",
   "version": "3.7.9"
  }
 },
 "nbformat": 4,
 "nbformat_minor": 2
}
